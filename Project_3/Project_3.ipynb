{
 "cells": [
  {
   "cell_type": "markdown",
   "metadata": {
    "_cell_guid": "b1076dfc-b9ad-4769-8c92-a6c4dae69d19",
    "_uuid": "8f2839f25d086af736a60e9eeb907d3b93b6e0e5"
   },
   "source": [
    "### This Python 3 environment comes with many helpful analytics libraries installed\n",
    "# It is defined by the kaggle/python Docker image: https://github.com/kaggle/docker-python\n",
    "# For example, here's several helpful packages to load\n",
    "\n",
    "\n",
    "# Input data files are available in the read-only \"../input/\" directory\n",
    "# For example, running this (by clicking run or pressing Shift+Enter) will list all files under the input directory\n",
    "\n",
    "import os\n",
    "\n",
    "for dirname, _, filenames in os.walk(\"./\"):\n",
    "    for filename in filenames:\n",
    "        print(os.path.join(dirname, filename))\n",
    "\n",
    "# You can write up to 20GB to the current directory (/kaggle/working/) that gets preserved as output when you create a version using \"Save & Run All\"\n",
    "# You can also write temporary files to /kaggle/temp/, but they won't be saved outside of the current session"
   ]
  },
  {
   "cell_type": "markdown",
   "metadata": {},
   "source": [
    "# 1. Frame the problem\n",
    "Using the customer description, Define the problem your trying to solve in your own words (remember this is not technial but must be specific so the customer understands the project\n",
    "\n",
    "\n",
    "\n",
    "\n"
   ]
  },
  {
   "cell_type": "code",
   "execution_count": 62,
   "metadata": {},
   "outputs": [
    {
     "data": {
      "text/plain": [
       "'\\nThe goal is to help the sales team focus on customers most likely to buy a Cog and to avoid returns. \\nI will use fields we already know including Age, EstimatedSalary, and Gender to predict three outcomes: NotPurchased, Purchased, and Returned. \\nThis supports lead scoring prioritize by Purchased probability and watch Returned risk. \\n'"
      ]
     },
     "execution_count": 62,
     "metadata": {},
     "output_type": "execute_result"
    }
   ],
   "source": [
    "\"\"\"\n",
    "The goal is to help the sales team focus on customers most likely to buy a Cog and to avoid returns. \n",
    "I will use fields we already know including Age, EstimatedSalary, and Gender to predict three outcomes: NotPurchased, Purchased, and Returned. \n",
    "This supports lead scoring prioritize by Purchased probability and watch Returned risk. \n",
    "\"\"\""
   ]
  },
  {
   "cell_type": "markdown",
   "metadata": {},
   "source": [
    "# 2. Get the Data \n",
    "Define how you recieved the data (provided, gathered..)\n",
    "\n"
   ]
  },
  {
   "cell_type": "code",
   "execution_count": 63,
   "metadata": {},
   "outputs": [
    {
     "data": {
      "text/plain": [
       "'\\nThe the CSV file was provided to us in the server. \\nI loaded it in a separate tab and manually looked at some of the data before coding. \\n'"
      ]
     },
     "execution_count": 63,
     "metadata": {},
     "output_type": "execute_result"
    }
   ],
   "source": [
    "\"\"\"\n",
    "The the CSV file was provided to us in the server. \n",
    "I loaded it in a separate tab and manually looked at some of the data before coding. \n",
    "\"\"\""
   ]
  },
  {
   "cell_type": "code",
   "execution_count": 16,
   "metadata": {},
   "outputs": [
    {
     "data": {
      "text/plain": [
       "'\\nThe data was provided to me by the teacher. It is in the form of a csv with UserID, name, gender age, salery, and whether they purchased the product. The data contains 1000 rows.\\n'"
      ]
     },
     "execution_count": 16,
     "metadata": {},
     "output_type": "execute_result"
    }
   ],
   "source": [
    "import pandas as pd, numpy as np, matplotlib.pyplot as plt\n",
    "df=pd.read_csv(\"Project_3.csv\")\n",
    "\n",
    "\"\"\"\n",
    "The data was provided to me by the teacher. It is in the form of a csv with UserID, name, gender age, salery, and whether they purchased the product. The data contains 1000 rows.\n",
    "\"\"\""
   ]
  },
  {
   "cell_type": "markdown",
   "metadata": {},
   "source": [
    "# 3. Explore the Data\n",
    "Gain insights into the data you have from step 2, making sure to identify any bias"
   ]
  },
  {
   "cell_type": "code",
   "execution_count": 65,
   "metadata": {},
   "outputs": [
    {
     "name": "stdout",
     "output_type": "stream",
     "text": [
      "class counts: {0: 527, 1: 433, 2: 41}\n",
      "by gender: OutcomeClass      0      1      2\n",
      "Gender                           \n",
      "Female        0.516  0.445  0.039\n",
      "Male          0.539  0.418  0.043\n"
     ]
    },
    {
     "data": {
      "image/png": "[encoded data removed]",
      "text/plain": [
       "<Figure size 1000x400 with 2 Axes>"
      ]
     },
     "metadata": {},
     "output_type": "display_data"
    },
    {
     "data": {
      "text/plain": [
       "'\\nI checked class balance and simple distributions. I looked for basic bias by gender and age buckets. I did not engineer features here yet just looking for obvious issues and leakage.\\n'"
      ]
     },
     "execution_count": 65,
     "metadata": {},
     "output_type": "execute_result"
    }
   ],
   "source": [
    "import pandas as pd, numpy as np\n",
    "import matplotlib.pyplot as plt\n",
    "\n",
    "target_col = next((c for c in [\"OutcomeClass\",\"Purchased\",\"purchased\",\"target\",\"Outcome\",\"Label\",\"y\"] if c in df.columns), None)\n",
    "y_raw = df[target_col].astype(int).replace({-1:2}) if target_col else None\n",
    "\n",
    "print(\"class counts:\", dict(pd.Series(y_raw).value_counts().sort_index()) if y_raw is not None else \"missing\")\n",
    "\n",
    "if \"Gender\" in df.columns and target_col:\n",
    "    print(\"by gender:\", df.groupby(\"Gender\")[target_col].value_counts(normalize=True).round(3).unstack(fill_value=0))\n",
    "\n",
    "fig, axes = plt.subplots(1,2, figsize=(10,4))\n",
    "if \"Age\" in df.columns:\n",
    "    df[\"Age\"].dropna().astype(float).plot(kind=\"hist\", bins=20, ax=axes[0], title=\"Age\")\n",
    "if \"EstimatedSalary\" in df.columns:\n",
    "    df[\"EstimatedSalary\"].dropna().astype(float).plot(kind=\"hist\", bins=20, ax=axes[1], title=\"EstimatedSalary\")\n",
    "plt.tight_layout(); plt.show()\n",
    "\n",
    "\"\"\"\n",
    "I checked class balance and simple distributions. I looked for basic bias by gender and age buckets. I did not engineer features here yet just looking for obvious issues and leakage.\n",
    "\"\"\"\n"
   ]
  },
  {
   "cell_type": "markdown",
   "metadata": {},
   "source": [
    "# 4.Prepare the Data\n",
    "\n",
    "\n",
    "Apply any data transformations and explain what and why\n"
   ]
  },
  {
   "cell_type": "code",
   "execution_count": 66,
   "metadata": {},
   "outputs": [
    {
     "data": {
      "text/plain": [
       "'\\nI removed user id and name since they do not help. \\nI created three target columns: is NotPurchased, is Purchased, is Returned, and a single multiclass label. \\nI trained only on Age, EstimatedSalary, and Gender. \\nI filled missing values, median for numbers, and most frequent for categories. \\nI z-score scaled the numeric features and one-hot encoded the categorical features. \\nI used an 80/20 train-test split with a fixed random state.\\n'"
      ]
     },
     "execution_count": 66,
     "metadata": {},
     "output_type": "execute_result"
    }
   ],
   "source": [
    "import numpy as np, pandas as pd\n",
    "from sklearn.model_selection import train_test_split\n",
    "from sklearn.compose import ColumnTransformer\n",
    "from sklearn.preprocessing import OneHotEncoder, StandardScaler\n",
    "from sklearn.impute import SimpleImputer\n",
    "from sklearn.pipeline import Pipeline\n",
    "\n",
    "# load\n",
    "try:\n",
    "    df\n",
    "except NameError:\n",
    "    df = pd.read_csv(\"Project_3.csv\")\n",
    "\n",
    "# drop id/name\n",
    "drop_cols = [c for c in df.columns if c.strip().lower() in {\"user id\",\"userid\",\"user_id\",\"name\",\"customername\"}]\n",
    "df = df.drop(columns=drop_cols, errors=\"ignore\")\n",
    "\n",
    "# build targets\n",
    "target_col = next((c for c in [\"OutcomeClass\",\"Purchased\",\"purchased\",\"target\",\"Outcome\",\"Label\",\"y\"] if c in df.columns), None)\n",
    "if target_col is None:\n",
    "    raise RuntimeError(\"No target column found.\")\n",
    "y_raw = df[target_col].astype(int).replace({-1: 2})  # 0 no 1 yes 2 returned\n",
    "df[\"is_NotPurchased\"] = (y_raw == 0).astype(int)\n",
    "df[\"is_Purchased\"]    = (y_raw == 1).astype(int)\n",
    "df[\"is_Returned\"]     = (y_raw == 2).astype(int)\n",
    "df[\"OutcomeClass\"]    = y_raw.values\n",
    "\n",
    "# features we actually use\n",
    "features = [\"Age\",\"EstimatedSalary\",\"Gender\"]\n",
    "if any(f not in df.columns for f in features):\n",
    "    missing = [f for f in features if f not in df.columns]\n",
    "    raise RuntimeError(f\"Missing required feature(s): {missing}\")\n",
    "X = df[features].copy()\n",
    "y = df[\"OutcomeClass\"].values\n",
    "\n",
    "# split 80 20 keep class balance\n",
    "Xtr_raw, Xte_raw, ytr, yte = train_test_split(X, y, test_size=0.20, random_state=1337, stratify=y)\n",
    "\n",
    "# preprocess median then z score for nums mode then one hot for cats\n",
    "num_cols = [c for c in features if X[c].dtype != \"object\"]\n",
    "cat_cols = [c for c in features if X[c].dtype == \"object\"]\n",
    "pre = ColumnTransformer([\n",
    "    (\"num\", Pipeline([(\"imp\", SimpleImputer(strategy=\"median\")), (\"sc\", StandardScaler())]), num_cols),\n",
    "    (\"cat\", Pipeline([(\"imp\", SimpleImputer(strategy=\"most_frequent\")),\n",
    "                      (\"oh\", OneHotEncoder(handle_unknown=\"ignore\", drop=\"first\"))]), cat_cols),\n",
    "])\n",
    "\n",
    "# fit on train only\n",
    "Xtr = pre.fit_transform(Xtr_raw)\n",
    "Xte = pre.transform(Xte_raw)\n",
    "\"\"\"\n",
    "I removed user id and name since they do not help. \n",
    "I created three target columns: is NotPurchased, is Purchased, is Returned, and a single multiclass label. \n",
    "I trained only on Age, EstimatedSalary, and Gender. \n",
    "I filled missing values, median for numbers, and most frequent for categories. \n",
    "I z-score scaled the numeric features and one-hot encoded the categorical features. \n",
    "I used an 80/20 train-test split with a fixed random state.\n",
    "\"\"\""
   ]
  },
  {
   "cell_type": "markdown",
   "metadata": {},
   "source": [
    "# 5. Model the data\n",
    "Using selected ML models, experment with your choices and describe your findings. Finish by selecting a Model to continue with\n"
   ]
  },
  {
   "cell_type": "code",
   "execution_count": 68,
   "metadata": {},
   "outputs": [
    {
     "name": "stderr",
     "output_type": "stream",
     "text": [
      "/opt/tljh/user/lib/python3.10/site-packages/sklearn/linear_model/_logistic.py:1247: FutureWarning: 'multi_class' was deprecated in version 1.5 and will be removed in 1.7. From then on, it will always use 'multinomial'. Leave it to its default value to avoid this warning.\n",
      "  warnings.warn(\n"
     ]
    },
    {
     "name": "stdout",
     "output_type": "stream",
     "text": [
      "    model  accuracy  f1_macro\n",
      "0     GBC  0.532338  0.355345\n",
      "1  LogReg  0.532338  0.349650\n",
      "2     HGB  0.502488  0.341244\n",
      "3      RF  0.487562  0.332087\n"
     ]
    },
    {
     "data": {
      "text/plain": [
       "'\\nI compared multinomial logistic regression, random forest, histogram gradient boosting, and gradient boosting. \\nI scored with accuracy and macro F1. \\nI added a few features including log of salary, age squared, and salary squared, and I also added quantile bins for age and salary. \\nThis pushed accuracy up a few points.\\nGBC and LogReg tied on accuracy in my split, so I moved forward with GBC for tuning since it had a higher macro F1.\\n'"
      ]
     },
     "execution_count": 68,
     "metadata": {},
     "output_type": "execute_result"
    }
   ],
   "source": [
    "import numpy as np, pandas as pd\n",
    "from sklearn.compose import ColumnTransformer\n",
    "from sklearn.preprocessing import OneHotEncoder, StandardScaler, FunctionTransformer, KBinsDiscretizer\n",
    "from sklearn.impute import SimpleImputer\n",
    "from sklearn.pipeline import Pipeline\n",
    "from sklearn.linear_model import LogisticRegression\n",
    "from sklearn.ensemble import RandomForestClassifier, GradientBoostingClassifier, HistGradientBoostingClassifier\n",
    "from sklearn.metrics import accuracy_score, f1_score\n",
    "\n",
    "num_cols = [c for c in Xtr_raw.columns if Xtr_raw[c].dtype != \"object\"]\n",
    "cat_cols = [c for c in Xtr_raw.columns if Xtr_raw[c].dtype == \"object\"]\n",
    "\n",
    "def add_num_feats_np(A, num_cols=num_cols):\n",
    "    A = np.asarray(A, dtype=float)\n",
    "    outs = [A]\n",
    "    idx = {c:i for i,c in enumerate(num_cols)}\n",
    "    if \"EstimatedSalary\" in idx:\n",
    "        s = A[:, idx[\"EstimatedSalary\"]]\n",
    "        outs.append(np.log1p(s).reshape(-1,1))\n",
    "        outs.append((s**2).reshape(-1,1))\n",
    "    if \"Age\" in idx:\n",
    "        a = A[:, idx[\"Age\"]]\n",
    "        outs.append((a**2).reshape(-1,1))\n",
    "        if \"EstimatedSalary\" in idx:\n",
    "            outs.append((a*np.log1p(s)).reshape(-1,1))\n",
    "            outs.append((a*s).reshape(-1,1))\n",
    "    return np.hstack(outs)\n",
    "\n",
    "num_cont = Pipeline([\n",
    "    (\"imp\", SimpleImputer(strategy=\"median\")),\n",
    "    (\"fe\", FunctionTransformer(add_num_feats_np, validate=False)),\n",
    "    (\"sc\", StandardScaler())\n",
    "])\n",
    "\n",
    "num_bins = Pipeline([\n",
    "    (\"imp\", SimpleImputer(strategy=\"median\")),\n",
    "    (\"kb\", KBinsDiscretizer(n_bins=5, encode=\"onehot-dense\", strategy=\"quantile\"))\n",
    "])\n",
    "\n",
    "cat_block = Pipeline([\n",
    "    (\"imp\", SimpleImputer(strategy=\"most_frequent\")),\n",
    "    (\"oh\", OneHotEncoder(handle_unknown=\"ignore\", drop=\"first\"))\n",
    "])\n",
    "\n",
    "pre = ColumnTransformer([\n",
    "    (\"num_cont\", num_cont, num_cols),\n",
    "    (\"num_bins\", num_bins, num_cols),\n",
    "    (\"cat\", cat_block, cat_cols),\n",
    "])\n",
    "\n",
    "models = {\n",
    "    \"LogReg\": Pipeline([(\"prep\", pre), (\"m\", LogisticRegression(max_iter=8000, multi_class=\"auto\"))]),\n",
    "    \"GBC\":    Pipeline([(\"prep\", pre), (\"m\", GradientBoostingClassifier(random_state=1337))]),\n",
    "    \"HGB\":    Pipeline([(\"prep\", pre), (\"m\", HistGradientBoostingClassifier(random_state=1337))]),\n",
    "    \"RF\":     Pipeline([(\"prep\", pre), (\"m\", RandomForestClassifier(random_state=1337, n_jobs=-1))]),\n",
    "}\n",
    "\n",
    "rows = []\n",
    "for name, pipe in models.items():\n",
    "    pipe.fit(Xtr_raw, ytr)\n",
    "    p = pipe.predict(Xte_raw)\n",
    "    rows.append({\"model\": name,\n",
    "                 \"accuracy\": float(accuracy_score(yte, p)),\n",
    "                 \"f1_macro\": float(f1_score(yte, p, average=\"macro\"))})\n",
    "\n",
    "bench = pd.DataFrame(rows).sort_values([\"accuracy\",\"f1_macro\"], ascending=False).reset_index(drop=True)\n",
    "print(bench)\n",
    "\"\"\"\n",
    "I compared multinomial logistic regression, random forest, histogram gradient boosting, and gradient boosting. \n",
    "I scored with accuracy and macro F1. \n",
    "I added a few features including log of salary, age squared, and salary squared, and I also added quantile bins for age and salary. \n",
    "This pushed accuracy up a few points.\n",
    "GBC and LogReg tied on accuracy in my split, so I moved forward with GBC for tuning since it had a higher macro F1.\n",
    "\"\"\""
   ]
  },
  {
   "cell_type": "markdown",
   "metadata": {},
   "source": [
    "# 6. Fine Tune the Model\n",
    "\n",
    "With the select model descibe the steps taken to acheve the best rusults possiable \n"
   ]
  },
  {
   "cell_type": "code",
   "execution_count": 69,
   "metadata": {},
   "outputs": [
    {
     "name": "stdout",
     "output_type": "stream",
     "text": [
      "{'test_metrics': {'accuracy': 0.5671641791044776, 'f1_macro': 0.3478618421052631}, 'best_params': {'m__learning_rate': 0.0194661306376966, 'm__max_depth': 1, 'm__max_features': 'sqrt', 'm__min_samples_leaf': 5, 'm__min_samples_split': 6, 'm__n_estimators': 430, 'm__subsample': 0.7144705295684427}}\n"
     ]
    },
    {
     "data": {
      "text/plain": [
       "'\\nI tuned gradient boosting for accuracy using randomized five fold cross validation. \\nI searched learning rate number of trees depth leaf size split size row subsampling and feature subsampling. \\nThen I evaluated on the test split and refit on all data. \\nFinally, I saved the full pipeline and a small meta file for inference for step 8.\\n'"
      ]
     },
     "execution_count": 69,
     "metadata": {},
     "output_type": "execute_result"
    }
   ],
   "source": [
    "from sklearn.model_selection import RandomizedSearchCV\n",
    "from scipy.stats import randint, uniform, loguniform\n",
    "from pathlib import Path\n",
    "import json, joblib\n",
    "\n",
    "ARTIFACT_DIR = Path(\"./artifacts\"); ARTIFACT_DIR.mkdir(parents=True, exist_ok=True)\n",
    "MODEL_PATH = ARTIFACT_DIR / \"model_cog_gbc.joblib\"\n",
    "META_PATH  = ARTIFACT_DIR / \"meta_cog_gbc.json\"\n",
    "RANDOM_STATE = 1337\n",
    "\n",
    "gbc = Pipeline([(\"prep\", pre), (\"m\", GradientBoostingClassifier(random_state=RANDOM_STATE))])\n",
    "\n",
    "param_dist = {\n",
    "    \"m__learning_rate\": loguniform(1e-2, 2e-1),\n",
    "    \"m__n_estimators\": randint(300, 900),\n",
    "    \"m__max_depth\": randint(1, 4),\n",
    "    \"m__min_samples_leaf\": randint(1, 11),\n",
    "    \"m__min_samples_split\": randint(2, 21),\n",
    "    \"m__subsample\": uniform(0.7, 0.3),\n",
    "    \"m__max_features\": [\"sqrt\", None],\n",
    "}\n",
    "\n",
    "search = RandomizedSearchCV(\n",
    "    estimator=gbc,\n",
    "    param_distributions=param_dist,\n",
    "    n_iter=60,\n",
    "    cv=5,\n",
    "    scoring=\"accuracy\",\n",
    "    n_jobs=-1,\n",
    "    random_state=RANDOM_STATE,\n",
    "    verbose=0\n",
    ")\n",
    "search.fit(Xtr_raw, ytr)\n",
    "\n",
    "best = search.best_estimator_\n",
    "pred = best.predict(Xte_raw)\n",
    "metrics = {\"accuracy\": float(accuracy_score(yte, pred)),\n",
    "           \"f1_macro\": float(f1_score(yte, pred, average=\"macro\"))}\n",
    "print({\"test_metrics\": metrics, \"best_params\": search.best_params_})\n",
    "\n",
    "X_all = pd.concat([Xtr_raw, Xte_raw], axis=0)\n",
    "y_all = np.concatenate([ytr, yte], axis=0)\n",
    "final = best.fit(X_all, y_all)\n",
    "joblib.dump(final, MODEL_PATH)\n",
    "META_PATH.write_text(json.dumps({\n",
    "    \"features\": list(Xtr_raw.columns),\n",
    "    \"chosen_model\": \"GradientBoostingClassifier\",\n",
    "    \"best_params\": search.best_params_,\n",
    "    \"metrics\": metrics,\n",
    "    \"class_names\": {\"0\":\"NotPurchased\",\"1\":\"Purchased\",\"2\":\"Returned\"}\n",
    "}, indent=2))\n",
    "\"\"\"\n",
    "I tuned gradient boosting for accuracy using randomized five fold cross validation. \n",
    "I searched learning rate number of trees depth leaf size split size row subsampling and feature subsampling. \n",
    "Then I evaluated on the test split and refit on all data. \n",
    "Finally, I saved the full pipeline and a small meta file for inference for step 8.\n",
    "\"\"\"\n"
   ]
  },
  {
   "cell_type": "markdown",
   "metadata": {},
   "source": [
    "# 7. Present\n",
    "In a customer faceing Document provide summery of finding and detail approach taken\n"
   ]
  },
  {
   "cell_type": "code",
   "execution_count": 70,
   "metadata": {},
   "outputs": [
    {
     "data": {
      "text/plain": [
       "'\\nMy goal is to help the sales team target prospects most likely to buy, and keep, a Cog. \\nI cleaned the data, removed IDs and names, and kept only fields available before outreach: Age, EstimatedSalary, and Gender.\\nI created three labels NotPurchased, Purchased, and Returned, then trained a multiclass model. \\nMissing values were imputed, numerics standardized, and categoricals one hot encoded. \\nI used an 80/20 stratified split.\\n\\nI compared Logistic Regression, Random Forest, Histogram Gradient Boosting, and Gradient Boosting.\\nAfter adding a few simple, leakage safe features and tuning Gradient Boosting, the final model reached 56.7 percent accuracy and 0.348 macro F1 on the test set. \\n\\nHow to use:\\nCall the function name infrence with three arguments in this order:\\nage as a number\\nestimated_salary as a number in dollars\\ngender as text such as Male or Female\\n\\nExample call:\\ninfrence(age=35, estimated_salary=72000, gender=\"Female\")\\n\\n'"
      ]
     },
     "execution_count": 70,
     "metadata": {},
     "output_type": "execute_result"
    }
   ],
   "source": [
    "\"\"\"\n",
    "My goal is to help the sales team target prospects most likely to buy, and keep, a Cog. \n",
    "I cleaned the data, removed IDs and names, and kept only fields available before outreach: Age, EstimatedSalary, and Gender.\n",
    "I created three labels NotPurchased, Purchased, and Returned, then trained a multiclass model. \n",
    "Missing values were imputed, numerics standardized, and categoricals one hot encoded. \n",
    "I used an 80/20 stratified split.\n",
    "\n",
    "I compared Logistic Regression, Random Forest, Histogram Gradient Boosting, and Gradient Boosting.\n",
    "After adding a few simple, leakage safe features and tuning Gradient Boosting, the final model reached 56.7 percent accuracy and 0.348 macro F1 on the test set. \n",
    "\n",
    "How to use:\n",
    "Call the function name infrence with three arguments in this order:\n",
    "age as a number\n",
    "estimated_salary as a number in dollars\n",
    "gender as text such as Male or Female\n",
    "\n",
    "Example call:\n",
    "infrence(age=35, estimated_salary=72000, gender=\"Female\")\n",
    "\n",
    "\"\"\""
   ]
  },
  {
   "cell_type": "markdown",
   "metadata": {},
   "source": [
    "# 8. Launch the Model System\n",
    "Define your production run code, This should be self susficent and require only your model pramaters \n"
   ]
  },
  {
   "cell_type": "code",
   "execution_count": 61,
   "metadata": {},
   "outputs": [
    {
     "name": "stdout",
     "output_type": "stream",
     "text": [
      "{'predicted_class': 'NotPurchased', 'class_probabilities': {'NotPurchased': 0.5901359806725858, 'Purchased': 0.37885406102211, 'Returned': 0.031009958305304227}}\n"
     ]
    }
   ],
   "source": [
    "def infrence(age: float, estimated_salary: float, gender: str):\n",
    "    import pandas as pd, joblib, json\n",
    "    from pathlib import Path\n",
    "    import numpy as np\n",
    "    p = Path(\"./artifacts\")\n",
    "    m = joblib.load(p / \"model_cog_gbc.joblib\")\n",
    "    meta = json.loads((p / \"meta_cog_gbc.json\").read_text())\n",
    "    X = pd.DataFrame([{\"Age\": age, \"EstimatedSalary\": estimated_salary, \"Gender\": gender}], columns=meta[\"features\"])\n",
    "    proba = m.predict_proba(X)[0]\n",
    "    pred_idx = int(np.argmax(proba))\n",
    "    name_map = {int(k): v for k, v in meta[\"class_names\"].items()}\n",
    "    return {\n",
    "        \"predicted_class\": name_map.get(pred_idx, str(pred_idx)),\n",
    "        \"class_probabilities\": {name_map.get(i, str(i)): float(p) for i, p in enumerate(proba)}\n",
    "    }\n",
    "\n",
    "print(infrence(age=35, estimated_salary=72000, gender=\"Female\"))"
   ]
  },
  {
   "cell_type": "code",
   "execution_count": null,
   "metadata": {},
   "outputs": [],
   "source": []
  }
 ],
 "metadata": {
  "kernelspec": {
   "display_name": "Python 3 (ipykernel)",
   "language": "python",
   "name": "python3"
  },
  "language_info": {
   "codemirror_mode": {
    "name": "ipython",
    "version": 3
   },
   "file_extension": ".py",
   "mimetype": "text/x-python",
   "name": "python",
   "nbconvert_exporter": "python",
   "pygments_lexer": "ipython3",
   "version": "3.10.10"
  },
  "toc-autonumbering": false,
  "toc-showmarkdowntxt": false
 },
 "nbformat": 4,
 "nbformat_minor": 4
}
