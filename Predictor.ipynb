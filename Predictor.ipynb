{
 "cells": [
  {
   "cell_type": "code",
   "execution_count": 3,
   "id": "53e40f1b-249c-473c-af24-01156fd46106",
   "metadata": {},
   "outputs": [
    {
     "name": "stdout",
     "output_type": "stream",
     "text": [
      "   PassengerId  Survived  Pclass  \\\n",
      "0            1         0       3   \n",
      "1            2         1       1   \n",
      "2            3         1       3   \n",
      "\n",
      "                                                Name     Sex   Age  SibSp  \\\n",
      "0                            Braund, Mr. Owen Harris    male  22.0      1   \n",
      "1  Cumings, Mrs. John Bradley (Florence Briggs Th...  female  38.0      1   \n",
      "2                             Heikkinen, Miss. Laina  female  26.0      0   \n",
      "\n",
      "   Parch            Ticket     Fare Cabin Embarked  \n",
      "0      0         A/5 21171   7.2500   NaN        S  \n",
      "1      0          PC 17599  71.2833   C85        C  \n",
      "2      0  STON/O2. 3101282   7.9250   NaN        S  \n"
     ]
    }
   ],
   "source": [
    "\n",
    "import os\n",
    "import numpy as np\n",
    "import pandas as pd\n",
    "import matplotlib.pyplot as plt\n",
    "\n",
    "from sklearn.model_selection import train_test_split\n",
    "from sklearn.linear_model import LinearRegression\n",
    "from sklearn.metrics import accuracy_score\n",
    "\n",
    "df = pd.read_csv(\"Project_1/data/titanic.csv\")\n",
    "print(df.head(3))\n",
    "\n"
   ]
  },
  {
   "cell_type": "code",
   "execution_count": 4,
   "id": "a570c64a-7fd1-4861-a4c6-3494ad9b94a1",
   "metadata": {},
   "outputs": [
    {
     "name": "stdout",
     "output_type": "stream",
     "text": [
      "Cabin          687\n",
      "Age            177\n",
      "Embarked         2\n",
      "PassengerId      0\n",
      "Survived         0\n",
      "dtype: int64\n"
     ]
    }
   ],
   "source": [
    "print(df.isna().sum().sort_values(ascending=False).head())\n"
   ]
  },
  {
   "cell_type": "code",
   "execution_count": 5,
   "id": "a9102a5f-5ad4-427e-abfb-167ecbe9a0b1",
   "metadata": {},
   "outputs": [],
   "source": [
    "data = df[[\"Survived\",\"Sex\",\"Pclass\"]].dropna().copy()\n",
    "data[\"is_female\"] = (data[\"Sex\"] == \"female\").astype(int)\n",
    "y = data[\"Survived\"].astype(int).values"
   ]
  },
  {
   "cell_type": "code",
   "execution_count": 6,
   "id": "51c1a95e-61f6-4b05-babf-f185610cd65b",
   "metadata": {},
   "outputs": [],
   "source": [
    "X_sex = data[[\"is_female\"]].values\n",
    "X_cls = data[[\"Pclass\"]].values\n",
    "X_sex_tr, X_sex_te, y_tr, y_te = train_test_split(X_sex, y, test_size=0.2, stratify=y, random_state=7)\n",
    "X_cls_tr, X_cls_te, _  , _    = train_test_split(X_cls, y, test_size=0.2, stratify=y, random_state=7)\n"
   ]
  },
  {
   "cell_type": "code",
   "execution_count": 8,
   "id": "80ce4bf4-ca7e-4fc9-9c73-78c551f0fbd2",
   "metadata": {},
   "outputs": [],
   "source": [
    "mA = LinearRegression()\n",
    "mA.fit(X_sex_tr, y_tr)\n",
    "probaA = np.clip(mA.predict(X_sex_te), 0.0, 1.0) \n",
    "predA  = (probaA >= 0.5).astype(int)\n",
    "accA   = accuracy_score(y_te, predA)"
   ]
  },
  {
   "cell_type": "code",
   "execution_count": 9,
   "id": "c18775f9-dece-456d-bd79-d021f2fcd527",
   "metadata": {},
   "outputs": [],
   "source": [
    "mB = LinearRegression()\n",
    "mB.fit(X_cls_tr, y_tr)\n",
    "probaB = np.clip(mB.predict(X_cls_te), 0.0, 1.0)\n",
    "predB  = (probaB >= 0.5).astype(int)\n",
    "accB   = accuracy_score(y_te, predB)"
   ]
  },
  {
   "cell_type": "code",
   "execution_count": 10,
   "id": "9bb4c668-ae8f-4ee0-b2fa-9b01c8b1c4cb",
   "metadata": {},
   "outputs": [
    {
     "name": "stdout",
     "output_type": "stream",
     "text": [
      "Gender only model: 0.765  sample probs: [0.186 0.751 0.751 0.751 0.186]\n",
      "Class only model:  0.67  sample probs: [0.245 0.444 0.444 0.643 0.245]\n"
     ]
    }
   ],
   "source": [
    "print(\"Gender only model:\", round(accA,3), \" sample probs:\", np.round(probaA[:5],3))\n",
    "print(\"Class only model: \", round(accB,3), \" sample probs:\", np.round(probaB[:5],3))"
   ]
  },
  {
   "cell_type": "code",
   "execution_count": 11,
   "id": "a9f7ad76-eba1-45cd-86c6-17793d119730",
   "metadata": {},
   "outputs": [],
   "source": [
    "def best_threshold(y_true, probs):\n",
    "    best_t = 0.5\n",
    "    best_acc = -1.0\n",
    "    for t in np.arange(0.2, 0.81, 0.05):\n",
    "        pred = (probs >= t).astype(int)\n",
    "        acc = accuracy_score(y_true, pred)\n",
    "        if acc > best_acc:\n",
    "            best_acc = acc\n",
    "            best_t = float(t)\n",
    "    return best_t, best_acc\n",
    "\n",
    "tA, accA_best = best_threshold(y_te, probaA)\n",
    "tB, accB_best = best_threshold(y_te, probaB)"
   ]
  },
  {
   "cell_type": "code",
   "execution_count": 12,
   "id": "8fb7c737-9d8b-415f-9ac4-23c87b551230",
   "metadata": {},
   "outputs": [
    {
     "name": "stdout",
     "output_type": "stream",
     "text": [
      "Gender model, best_t=0.20, accuracy=0.765\n",
      "Class model, best_t=0.45, accuracy=0.670\n"
     ]
    }
   ],
   "source": [
    "print(f\"Gender model, best_t={tA:.2f}, accuracy={accA_best:.3f}\")\n",
    "print(f\"Class model, best_t={tB:.2f}, accuracy={accB_best:.3f}\")"
   ]
  },
  {
   "cell_type": "code",
   "execution_count": 13,
   "id": "89689e56-1303-4529-82af-3ce49981ceed",
   "metadata": {},
   "outputs": [],
   "source": [
    "mA_full = LinearRegression().fit(X_sex, y)\n",
    "mB_full = LinearRegression().fit(X_cls, y)\n",
    "\n",
    "def predict_with_sex(sex_str, threshold=0.5):\n",
    "    x = np.array([[1 if str(sex_str).lower()==\"female\" else 0]])\n",
    "    prob = float(np.clip(mA_full.predict(x)[0], 0.0, 1.0))\n",
    "    label = int(prob >= threshold)\n",
    "    return prob, label\n",
    "\n",
    "def predict_with_pclass(pclass, threshold=0.5):\n",
    "    x = np.array([[int(pclass)]])\n",
    "    prob = float(np.clip(mB_full.predict(x)[0], 0.0, 1.0))\n",
    "    label = int(prob >= threshold)\n",
    "    return prob, label"
   ]
  },
  {
   "cell_type": "code",
   "execution_count": 14,
   "id": "21a2276a-9b12-44b0-bd85-2ded64128183",
   "metadata": {},
   "outputs": [
    {
     "name": "stdout",
     "output_type": "stream",
     "text": [
      "Sex model, 'female': (0.74203821656051, 1)\n",
      "Sex model, 'male':   (0.18890814558058897, 0)\n",
      "Pclass model, 1: (0.6416350358642786, 1)\n",
      "Pclass model, 3: (0.24764392616432607, 0)\n"
     ]
    }
   ],
   "source": [
    "print(\"Sex model, 'female':\", predict_with_sex(\"female\"))\n",
    "print(\"Sex model, 'male':  \", predict_with_sex(\"male\"))\n",
    "print(\"Pclass model, 1:\", predict_with_pclass(1))\n",
    "print(\"Pclass model, 3:\", predict_with_pclass(3))"
   ]
  },
  {
   "cell_type": "code",
   "execution_count": 16,
   "id": "be9b0c55-0e6c-4d42-847e-6f7adeaeb4e5",
   "metadata": {},
   "outputs": [
    {
     "name": "stdout",
     "output_type": "stream",
     "text": [
      "FULL-data train accuracy — Sex model:    0.787\n",
      "FULL-data train accuracy — Pclass model: 0.679\n"
     ]
    }
   ],
   "source": [
    "probA_full = np.clip(mA_full.predict(X_sex), 0.0, 1.0)\n",
    "predA_full = (probA_full >= 0.5).astype(int)\n",
    "accA_full  = accuracy_score(y, predA_full)\n",
    "\n",
    "probB_full = np.clip(mB_full.predict(X_cls), 0.0, 1.0)\n",
    "predB_full = (probB_full >= 0.5).astype(int)\n",
    "accB_full  = accuracy_score(y, predB_full)\n",
    "\n",
    "print(\"FULL-data train accuracy — Sex model:   \", round(accA_full, 3))\n",
    "print(\"FULL-data train accuracy — Pclass model:\", round(accB_full, 3))"
   ]
  },
  {
   "cell_type": "code",
   "execution_count": null,
   "id": "17c5e619-5b80-440c-98e1-e4f73dbb16e7",
   "metadata": {},
   "outputs": [],
   "source": []
  }
 ],
 "metadata": {
  "kernelspec": {
   "display_name": "Python 3 (ipykernel)",
   "language": "python",
   "name": "python3"
  },
  "language_info": {
   "codemirror_mode": {
    "name": "ipython",
    "version": 3
   },
   "file_extension": ".py",
   "mimetype": "text/x-python",
   "name": "python",
   "nbconvert_exporter": "python",
   "pygments_lexer": "ipython3",
   "version": "3.10.10"
  }
 },
 "nbformat": 4,
 "nbformat_minor": 5
}
