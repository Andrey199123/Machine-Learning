{
 "cells": [
  {
   "cell_type": "code",
   "execution_count": 2,
   "metadata": {
    "_cell_guid": "b1076dfc-b9ad-4769-8c92-a6c4dae69d19",
    "_uuid": "8f2839f25d086af736a60e9eeb907d3b93b6e0e5"
   },
   "outputs": [],
   "source": [
    "# This Python 3 environment comes with many helpful analytics libraries installed\n",
    "# It is defined by the kaggle/python Docker image: https://github.com/kaggle/docker-python\n",
    "# For example, here's several helpful packages to load\n",
    "\n",
    "\n",
    "# Input data files are available in the read-only \"../input/\" directory\n",
    "# For example, running this (by clicking run or pressing Shift+Enter) will list all files under the input directory\n",
    "\n",
    "import os\n",
    "\n",
    "for dirname, _, filenames in os.walk(\"./\"):\n",
    "    for filename in filenames:\n",
    "        print(os.path.join(dirname, filename))\n",
    "\n",
    "# You can write up to 20GB to the current directory (/kaggle/working/) that gets preserved as output when you create a version using \"Save & Run All\"\n",
    "# You can also write temporary files to /kaggle/temp/, but they won't be saved outside of the current session"
   ]
  },
  {
   "cell_type": "markdown",
   "metadata": {},
   "source": [
    "# 1. Frame the problem\n",
    "Using the customer description, Define the problem your trying to solve in your own words (remember this is not technial but must be specific so the customer understands the project"
   ]
  },
  {
   "cell_type": "markdown",
   "metadata": {},
   "source": [
    "I am building a classifier that reads raw emails and decides whether an email is spam or ham. The goal is to read the messages and provide value to the user by removing all the emails that are spam, thus saving them time. "
   ]
  },
  {
   "cell_type": "markdown",
   "metadata": {},
   "source": [
    "# 2. Get the Data \n",
    "Define how you recieved the data (provided, gathered..)"
   ]
  },
  {
   "cell_type": "markdown",
   "metadata": {},
   "source": [
    "I received a zip file on Schoology for the data. When I unpacked the data, it showed hundreds of text files where each text file represents an email. The first line of each file represents the subject while the remaining lines represent the body of the email. \n"
   ]
  },
  {
   "cell_type": "code",
   "execution_count": 2,
   "metadata": {},
   "outputs": [
    {
     "name": "stdout",
     "output_type": "stream",
     "text": [
      "Files parsed 875\n"
     ]
    },
    {
     "data": {
      "text/html": [
       "<div>\n",
       "<style scoped>\n",
       "    .dataframe tbody tr th:only-of-type {\n",
       "        vertical-align: middle;\n",
       "    }\n",
       "\n",
       "    .dataframe tbody tr th {\n",
       "        vertical-align: top;\n",
       "    }\n",
       "\n",
       "    .dataframe thead th {\n",
       "        text-align: right;\n",
       "    }\n",
       "</style>\n",
       "<table border=\"1\" class=\"dataframe\">\n",
       "  <thead>\n",
       "    <tr style=\"text-align: right;\">\n",
       "      <th></th>\n",
       "      <th>path</th>\n",
       "      <th>subject</th>\n",
       "      <th>body</th>\n",
       "    </tr>\n",
       "  </thead>\n",
       "  <tbody>\n",
       "    <tr>\n",
       "      <th>0</th>\n",
       "      <td>email_archive/.ipynb_checkpoints/3-1msg1-check...</td>\n",
       "      <td>: re : 2 . 882 s - &gt; np np</td>\n",
       "      <td>&gt; deat : sun , 15 dec 91 2 : 25 : 2 est &gt; : mi...</td>\n",
       "    </tr>\n",
       "    <tr>\n",
       "      <th>1</th>\n",
       "      <td>email_archive/.ipynb_checkpoints/3-392msg1-che...</td>\n",
       "      <td>: humor communication : call paper</td>\n",
       "      <td>call papers humor communication seminar sca , ...</td>\n",
       "    </tr>\n",
       "    <tr>\n",
       "      <th>2</th>\n",
       "      <td>email_archive/.ipynb_checkpoints/spmsgc99-chec...</td>\n",
       "      <td>: ' t stand ! ! ! ! ! ! !</td>\n",
       "      <td>dear internet user : dear internet user : soun...</td>\n",
       "    </tr>\n",
       "  </tbody>\n",
       "</table>\n",
       "</div>"
      ],
      "text/plain": [
       "                                                path  \\\n",
       "0  email_archive/.ipynb_checkpoints/3-1msg1-check...   \n",
       "1  email_archive/.ipynb_checkpoints/3-392msg1-che...   \n",
       "2  email_archive/.ipynb_checkpoints/spmsgc99-chec...   \n",
       "\n",
       "                              subject  \\\n",
       "0          : re : 2 . 882 s - > np np   \n",
       "1  : humor communication : call paper   \n",
       "2           : ' t stand ! ! ! ! ! ! !   \n",
       "\n",
       "                                                body  \n",
       "0  > deat : sun , 15 dec 91 2 : 25 : 2 est > : mi...  \n",
       "1  call papers humor communication seminar sca , ...  \n",
       "2  dear internet user : dear internet user : soun...  "
      ]
     },
     "execution_count": 2,
     "metadata": {},
     "output_type": "execute_result"
    }
   ],
   "source": [
    "from pathlib import Path\n",
    "import pandas as pd\n",
    "import re\n",
    "\n",
    "data_dir = Path(\"email_archive\")\n",
    "\n",
    "def read_email(path: Path):\n",
    "    text = path.read_text(encoding=\"utf-8\", errors=\"ignore\")\n",
    "    lines = text.splitlines()\n",
    "\n",
    "    subject = \"\"\n",
    "    subj_idx = None\n",
    "    for i, line in enumerate(lines[:10]):\n",
    "        m = re.match(r'^\\s*subject\\s*(.*)$', line, flags=re.I)\n",
    "        if m:\n",
    "            subject = m.group(1).strip()\n",
    "            subj_idx = i\n",
    "            break\n",
    "\n",
    "    body_lines = lines[:subj_idx] + lines[subj_idx+1:] if subj_idx is not None else lines\n",
    "    body = \"\\n\".join(body_lines).strip()\n",
    "    return subject, body\n",
    "\n",
    "file_list = sorted(list(data_dir.rglob(\"*.txt\")) + list(data_dir.rglob(\"*.TXT\")))\n",
    "\n",
    "rows = [{\"path\": str(p), \"subject\": read_email(p)[0], \"body\": read_email(p)[1]} for p in file_list]\n",
    "df = pd.DataFrame(rows)\n",
    "\n",
    "print(\"Files parsed\", len(file_list))\n",
    "df.head(3)\n"
   ]
  },
  {
   "cell_type": "markdown",
   "metadata": {},
   "source": [
    "# 3. Explore the Data\n",
    "Gain insights into the data you have from step 2, making sure to identify any bias"
   ]
  },
  {
   "cell_type": "markdown",
   "metadata": {},
   "source": [
    "I explored the data by analyzing the basic features it has. This includes how many emails there are, how long the subjects and bodies are, how often links, addresses, and quotes appear. I also plan on noting bias like analyzing sentiment and while manually looking through the data, I noticed that a lot of the messages seem to be academic. "
   ]
  },
  {
   "cell_type": "code",
   "execution_count": 3,
   "metadata": {},
   "outputs": [
    {
     "name": "stdout",
     "output_type": "stream",
     "text": [
      "Total emails 875\n",
      "Empty subject 0\n",
      "Empty body 0\n"
     ]
    },
    {
     "data": {
      "text/html": [
       "<div>\n",
       "<style scoped>\n",
       "    .dataframe tbody tr th:only-of-type {\n",
       "        vertical-align: middle;\n",
       "    }\n",
       "\n",
       "    .dataframe tbody tr th {\n",
       "        vertical-align: top;\n",
       "    }\n",
       "\n",
       "    .dataframe thead th {\n",
       "        text-align: right;\n",
       "    }\n",
       "</style>\n",
       "<table border=\"1\" class=\"dataframe\">\n",
       "  <thead>\n",
       "    <tr style=\"text-align: right;\">\n",
       "      <th></th>\n",
       "      <th>subject_len</th>\n",
       "      <th>body_len</th>\n",
       "      <th>num_urls</th>\n",
       "      <th>num_emails</th>\n",
       "      <th>num_quotes</th>\n",
       "    </tr>\n",
       "  </thead>\n",
       "  <tbody>\n",
       "    <tr>\n",
       "      <th>count</th>\n",
       "      <td>875.00</td>\n",
       "      <td>875.00</td>\n",
       "      <td>875.0</td>\n",
       "      <td>875.0</td>\n",
       "      <td>875.00</td>\n",
       "    </tr>\n",
       "    <tr>\n",
       "      <th>mean</th>\n",
       "      <td>28.23</td>\n",
       "      <td>2608.42</td>\n",
       "      <td>0.0</td>\n",
       "      <td>0.0</td>\n",
       "      <td>0.01</td>\n",
       "    </tr>\n",
       "    <tr>\n",
       "      <th>std</th>\n",
       "      <td>15.38</td>\n",
       "      <td>3271.41</td>\n",
       "      <td>0.0</td>\n",
       "      <td>0.0</td>\n",
       "      <td>0.09</td>\n",
       "    </tr>\n",
       "    <tr>\n",
       "      <th>min</th>\n",
       "      <td>1.00</td>\n",
       "      <td>14.00</td>\n",
       "      <td>0.0</td>\n",
       "      <td>0.0</td>\n",
       "      <td>0.00</td>\n",
       "    </tr>\n",
       "    <tr>\n",
       "      <th>25%</th>\n",
       "      <td>17.00</td>\n",
       "      <td>549.00</td>\n",
       "      <td>0.0</td>\n",
       "      <td>0.0</td>\n",
       "      <td>0.00</td>\n",
       "    </tr>\n",
       "    <tr>\n",
       "      <th>50%</th>\n",
       "      <td>26.00</td>\n",
       "      <td>1366.00</td>\n",
       "      <td>0.0</td>\n",
       "      <td>0.0</td>\n",
       "      <td>0.00</td>\n",
       "    </tr>\n",
       "    <tr>\n",
       "      <th>75%</th>\n",
       "      <td>37.00</td>\n",
       "      <td>3250.00</td>\n",
       "      <td>0.0</td>\n",
       "      <td>0.0</td>\n",
       "      <td>0.00</td>\n",
       "    </tr>\n",
       "    <tr>\n",
       "      <th>max</th>\n",
       "      <td>128.00</td>\n",
       "      <td>19322.00</td>\n",
       "      <td>0.0</td>\n",
       "      <td>0.0</td>\n",
       "      <td>1.00</td>\n",
       "    </tr>\n",
       "  </tbody>\n",
       "</table>\n",
       "</div>"
      ],
      "text/plain": [
       "       subject_len  body_len  num_urls  num_emails  num_quotes\n",
       "count       875.00    875.00     875.0       875.0      875.00\n",
       "mean         28.23   2608.42       0.0         0.0        0.01\n",
       "std          15.38   3271.41       0.0         0.0        0.09\n",
       "min           1.00     14.00       0.0         0.0        0.00\n",
       "25%          17.00    549.00       0.0         0.0        0.00\n",
       "50%          26.00   1366.00       0.0         0.0        0.00\n",
       "75%          37.00   3250.00       0.0         0.0        0.00\n",
       "max         128.00  19322.00       0.0         0.0        1.00"
      ]
     },
     "metadata": {},
     "output_type": "display_data"
    }
   ],
   "source": [
    "import numpy as np\n",
    "import matplotlib.pyplot as plt\n",
    "\n",
    "assert not df.empty, \"No emails loaded\"\n",
    "\n",
    "df[\"subject_len\"] = df[\"subject\"].fillna(\"\").str.len()\n",
    "df[\"body_len\"] = df[\"body\"].fillna(\"\").str.len()\n",
    "\n",
    "def count_pat(s, pattern):\n",
    "    return s.fillna(\"\").str.count(pattern, flags=re.I)\n",
    "\n",
    "df[\"num_urls\"]   = count_pat(df[\"body\"], r\"http[s]?://|www\\.\")\n",
    "df[\"num_emails\"] = count_pat(df[\"body\"], r\"[A-Z0-9._%+-]+@[A-Z0-9.-]+\\.[A-Z]{2,}\")\n",
    "df[\"num_quotes\"] = count_pat(df[\"body\"], r\"(?m)^\\s*>\")\n",
    "\n",
    "print(\"Total emails\", len(df))\n",
    "print(\"Empty subject\", (df['subject'].fillna(\"\")==\"\").sum())\n",
    "print(\"Empty body\", (df['body'].fillna(\"\")==\"\").sum())\n",
    "\n",
    "display(df[[\"subject_len\",\"body_len\",\"num_urls\",\"num_emails\",\"num_quotes\"]].describe().round(2))\n"
   ]
  },
  {
   "cell_type": "markdown",
   "metadata": {},
   "source": [
    "From here, I made some plots to visualize my data and to see what I would need to clean:"
   ]
  },
  {
   "cell_type": "code",
   "execution_count": 4,
   "metadata": {},
   "outputs": [
    {
     "data": {
      "image/png": "[encoded data removed]",
      "text/plain": [
       "<Figure size 640x480 with 1 Axes>"
      ]
     },
     "metadata": {},
     "output_type": "display_data"
    },
    {
     "data": {
      "image/png": "[encoded data removed]",
      "text/plain": [
       "<Figure size 640x480 with 1 Axes>"
      ]
     },
     "metadata": {},
     "output_type": "display_data"
    },
    {
     "data": {
      "image/png": "[encoded data removed]",
      "text/plain": [
       "<Figure size 640x480 with 1 Axes>"
      ]
     },
     "metadata": {},
     "output_type": "display_data"
    }
   ],
   "source": [
    "plt.figure(); df[\"subject_len\"].plot(kind=\"hist\", bins=30, title=\"Subject length\"); plt.show()\n",
    "plt.figure(); df[\"body_len\"].clip(upper=df[\"body_len\"].quantile(0.98)).plot(kind=\"hist\", bins=30, title=\"Body length\"); plt.show()\n",
    "plt.figure(); plt.bar([\"has quotes\",\"no quotes\"], [(df[\"num_quotes\"]>0).mean(), 1-(df[\"num_quotes\"]>0).mean()]); plt.title(\"Quoted lines presence\"); plt.show()\n"
   ]
  },
  {
   "cell_type": "markdown",
   "metadata": {},
   "source": [
    "# 4.Prepare the Data\n",
    "\n",
    "\n",
    "Apply any data transformations and explain what and why"
   ]
  },
  {
   "cell_type": "markdown",
   "metadata": {},
   "source": [
    "Since the quoted text appeared to be rare, I will focus on fixint spaced punctuation, normalizing case and whitespace, and mapping links and emails to tokens. Additionally I will remove header noies like the From or Date lines that leaked into the body. I kept the url and email flags and added counts of digits and currentcy symbols. Finally, I added exclamation count, word count, and a bunch of spam words as filters. The cleaned emails are saved to a separate csv file. "
   ]
  },
  {
   "cell_type": "code",
   "execution_count": 5,
   "metadata": {},
   "outputs": [
    {
     "data": {
      "text/html": [
       "<div>\n",
       "<style scoped>\n",
       "    .dataframe tbody tr th:only-of-type {\n",
       "        vertical-align: middle;\n",
       "    }\n",
       "\n",
       "    .dataframe tbody tr th {\n",
       "        vertical-align: top;\n",
       "    }\n",
       "\n",
       "    .dataframe thead th {\n",
       "        text-align: right;\n",
       "    }\n",
       "</style>\n",
       "<table border=\"1\" class=\"dataframe\">\n",
       "  <thead>\n",
       "    <tr style=\"text-align: right;\">\n",
       "      <th></th>\n",
       "      <th>path</th>\n",
       "      <th>subject_clean</th>\n",
       "      <th>body_clean</th>\n",
       "      <th>subject_len_chars</th>\n",
       "      <th>body_len_chars</th>\n",
       "      <th>word_count</th>\n",
       "      <th>has_url</th>\n",
       "      <th>has_email</th>\n",
       "      <th>num_exclaim</th>\n",
       "      <th>num_digits</th>\n",
       "      <th>num_currency</th>\n",
       "      <th>upper_ratio</th>\n",
       "      <th>spam_lex_score</th>\n",
       "    </tr>\n",
       "  </thead>\n",
       "  <tbody>\n",
       "    <tr>\n",
       "      <th>0</th>\n",
       "      <td>email_archive/.ipynb_checkpoints/3-1msg1-check...</td>\n",
       "      <td>: re : 2.882 s-&gt;np np</td>\n",
       "      <td>&gt;deat : sun,15 dec 91 2 : 25 : 2 est&gt;: michael...</td>\n",
       "      <td>21</td>\n",
       "      <td>627</td>\n",
       "      <td>77</td>\n",
       "      <td>0</td>\n",
       "      <td>0</td>\n",
       "      <td>0</td>\n",
       "      <td>13</td>\n",
       "      <td>0</td>\n",
       "      <td>0.0</td>\n",
       "      <td>0</td>\n",
       "    </tr>\n",
       "    <tr>\n",
       "      <th>1</th>\n",
       "      <td>email_archive/.ipynb_checkpoints/3-392msg1-che...</td>\n",
       "      <td>: humor communication : call paper</td>\n",
       "      <td>call papers humor communication seminar sca,19...</td>\n",
       "      <td>34</td>\n",
       "      <td>3334</td>\n",
       "      <td>315</td>\n",
       "      <td>0</td>\n",
       "      <td>0</td>\n",
       "      <td>0</td>\n",
       "      <td>143</td>\n",
       "      <td>0</td>\n",
       "      <td>0.0</td>\n",
       "      <td>3</td>\n",
       "    </tr>\n",
       "    <tr>\n",
       "      <th>2</th>\n",
       "      <td>email_archive/.ipynb_checkpoints/spmsgc99-chec...</td>\n",
       "      <td>: ' t stand!!!!!!!</td>\n",
       "      <td>dear internet user : dear internet user : soun...</td>\n",
       "      <td>18</td>\n",
       "      <td>10627</td>\n",
       "      <td>2089</td>\n",
       "      <td>0</td>\n",
       "      <td>0</td>\n",
       "      <td>45</td>\n",
       "      <td>367</td>\n",
       "      <td>12</td>\n",
       "      <td>0.0</td>\n",
       "      <td>26</td>\n",
       "    </tr>\n",
       "  </tbody>\n",
       "</table>\n",
       "</div>"
      ],
      "text/plain": [
       "                                                path  \\\n",
       "0  email_archive/.ipynb_checkpoints/3-1msg1-check...   \n",
       "1  email_archive/.ipynb_checkpoints/3-392msg1-che...   \n",
       "2  email_archive/.ipynb_checkpoints/spmsgc99-chec...   \n",
       "\n",
       "                        subject_clean  \\\n",
       "0               : re : 2.882 s->np np   \n",
       "1  : humor communication : call paper   \n",
       "2                  : ' t stand!!!!!!!   \n",
       "\n",
       "                                          body_clean  subject_len_chars  \\\n",
       "0  >deat : sun,15 dec 91 2 : 25 : 2 est>: michael...                 21   \n",
       "1  call papers humor communication seminar sca,19...                 34   \n",
       "2  dear internet user : dear internet user : soun...                 18   \n",
       "\n",
       "   body_len_chars  word_count  has_url  has_email  num_exclaim  num_digits  \\\n",
       "0             627          77        0          0            0          13   \n",
       "1            3334         315        0          0            0         143   \n",
       "2           10627        2089        0          0           45         367   \n",
       "\n",
       "   num_currency  upper_ratio  spam_lex_score  \n",
       "0             0          0.0               0  \n",
       "1             0          0.0               3  \n",
       "2            12          0.0              26  "
      ]
     },
     "metadata": {},
     "output_type": "display_data"
    }
   ],
   "source": [
    "import re\n",
    "\n",
    "URL_TOKEN = \"URLTOKEN\"\n",
    "EMAIL_TOKEN = \"EMAILTOKEN\"\n",
    "\n",
    "HEADER_RE = re.compile(\n",
    "    r\"(?im)^(from|to|cc|bcc|date|organization|path|newsgroups|lines|message-id)\\s*[:\\-].*$\"\n",
    ")\n",
    "\n",
    "def drop_header_like_lines(t):\n",
    "    return \"\\n\".join(\n",
    "        line for line in t.splitlines()\n",
    "        if not HEADER_RE.match(line.strip())\n",
    "    )\n",
    "\n",
    "def protect_urls_and_emails(t):\n",
    "    t = re.sub(r\"http[s]?://\\S+|www\\.\\S+\", URL_TOKEN, t, flags=re.I)\n",
    "    t = re.sub(r\"[A-Z0-9._%+-]+@[A-Z0-9.-]+\\.[A-Z]{2,}\", EMAIL_TOKEN, t, flags=re.I)\n",
    "    return t\n",
    "\n",
    "def fix_spaced_punct(t):\n",
    "    t = re.sub(r\"\\s*([.,!?()\\-+*/<>])\\s*\", r\"\\1\", t)\n",
    "    t = re.sub(r\"\\s+\", \" \", t)\n",
    "    return t.strip()\n",
    "\n",
    "def basic_clean(t):\n",
    "    if not isinstance(t, str):\n",
    "        return \"\"\n",
    "    t = t.lower()\n",
    "    t = drop_header_like_lines(t)\n",
    "    t = protect_urls_and_emails(t)\n",
    "    t = fix_spaced_punct(t)\n",
    "    return t\n",
    "\n",
    "clean_df = df.copy()\n",
    "clean_df[\"subject_clean\"] = clean_df[\"subject\"].apply(basic_clean)\n",
    "clean_df[\"body_clean\"]    = clean_df[\"body\"].apply(basic_clean)\n",
    "\n",
    "# Features that fit this set\n",
    "clean_df[\"subject_len_chars\"] = clean_df[\"subject_clean\"].str.len()\n",
    "clean_df[\"body_len_chars\"]    = clean_df[\"body_clean\"].str.len()\n",
    "clean_df[\"word_count\"]        = clean_df[\"body_clean\"].str.split().str.len().fillna(0)\n",
    "\n",
    "# Keep url and email signals from Step 3\n",
    "clean_df[\"has_url\"]   = (df[\"num_urls\"]>0).astype(int)\n",
    "clean_df[\"has_email\"] = (df[\"num_emails\"]>0).astype(int)\n",
    "\n",
    "# Extra lightweight signals\n",
    "clean_df[\"num_exclaim\"]  = df[\"body\"].str.count(\"!\").fillna(0)\n",
    "clean_df[\"num_digits\"]   = df[\"body\"].str.count(r\"\\d\").fillna(0)\n",
    "clean_df[\"num_currency\"] = df[\"body\"].str.count(r\"[$€£]\").fillna(0)\n",
    "\n",
    "# Uppercase ratio on raw body to catch shouty messages\n",
    "def upper_ratio(s):\n",
    "    s = s if isinstance(s, str) else \"\"\n",
    "    letters = re.findall(r\"[A-Za-z]\", s)\n",
    "    if not letters:\n",
    "        return 0.0\n",
    "    upp = sum(1 for ch in letters if ch.isupper())\n",
    "    return upp / len(letters)\n",
    "\n",
    "clean_df[\"upper_ratio\"] = df[\"body\"].apply(upper_ratio)\n",
    "\n",
    "# Tiny spam lexicon score\n",
    "spam_words = [\n",
    "    \"free\",\"win\",\"winner\",\"credit\",\"offer\",\"urgent\",\"click\",\"buy\",\"deal\",\n",
    "    \"guarantee\",\"call\",\"limited\",\"money\",\"prize\",\"subscribe\"\n",
    "]\n",
    "pat = re.compile(r\"\\b(\" + \"|\".join(spam_words) + r\")\\b\", flags=re.I)\n",
    "\n",
    "def spam_score(text):\n",
    "    if not isinstance(text, str):\n",
    "        return 0\n",
    "    return len(pat.findall(text))\n",
    "\n",
    "clean_df[\"spam_lex_score\"] = (clean_df[\"subject_clean\"] + \" \" + clean_df[\"body_clean\"]).apply(spam_score)\n",
    "\n",
    "cols = [\n",
    "    \"path\",\"subject_clean\",\"body_clean\",\n",
    "    \"subject_len_chars\",\"body_len_chars\",\"word_count\",\n",
    "    \"has_url\",\"has_email\",\"num_exclaim\",\"num_digits\",\"num_currency\",\"upper_ratio\",\"spam_lex_score\"\n",
    "]\n",
    "display(clean_df[cols].head(3))\n",
    "\n",
    "clean_df[cols].to_csv(\"emails_clean_small.csv\", index=False)"
   ]
  },
  {
   "cell_type": "markdown",
   "metadata": {},
   "source": [
    "# 5. Model the data\n",
    "Using selected ML models, experment with your choices and describe your findings. Finish by selecting a Model to continue with\n"
   ]
  },
  {
   "cell_type": "code",
   "execution_count": null,
   "metadata": {},
   "outputs": [],
   "source": [
    "\n"
   ]
  },
  {
   "cell_type": "markdown",
   "metadata": {},
   "source": [
    "# 6. Fine Tune the Model\n",
    "\n",
    "With the select model descibe the steps taken to acheve the best rusults possiable \n"
   ]
  },
  {
   "cell_type": "code",
   "execution_count": null,
   "metadata": {},
   "outputs": [],
   "source": [
    "\n"
   ]
  },
  {
   "cell_type": "markdown",
   "metadata": {},
   "source": [
    "# 7. Present\n",
    "In a customer faceing Document provide summery of finding and detail approach taken\n"
   ]
  },
  {
   "cell_type": "code",
   "execution_count": null,
   "metadata": {},
   "outputs": [],
   "source": [
    "\n"
   ]
  },
  {
   "cell_type": "markdown",
   "metadata": {},
   "source": [
    "# 8. Launch the Model System\n",
    "Define your production run code, This should be self susficent and require only your model pramaters \n"
   ]
  },
  {
   "cell_type": "code",
   "execution_count": 11,
   "metadata": {},
   "outputs": [],
   "source": []
  }
 ],
 "metadata": {
  "kernelspec": {
   "display_name": "Python 3 (ipykernel)",
   "language": "python",
   "name": "python3"
  },
  "language_info": {
   "codemirror_mode": {
    "name": "ipython",
    "version": 3
   },
   "file_extension": ".py",
   "mimetype": "text/x-python",
   "name": "python",
   "nbconvert_exporter": "python",
   "pygments_lexer": "ipython3",
   "version": "3.10.10"
  },
  "toc-autonumbering": false,
  "toc-showmarkdowntxt": false
 },
 "nbformat": 4,
 "nbformat_minor": 4
}
